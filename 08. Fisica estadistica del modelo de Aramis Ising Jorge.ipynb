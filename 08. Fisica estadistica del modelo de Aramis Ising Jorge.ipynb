{
 "cells": [
  {
   "cell_type": "markdown",
   "metadata": {},
   "source": [
    "# Física estadística en el ensamble canónico "
   ]
  },
  {
   "cell_type": "markdown",
   "metadata": {},
   "source": [
    "Ya que contamos con un modelo microscópico, el modelo de Ising, que especifica cuáles son las *configuraciones microscópicas*, o **microestados**, del sistema, y su energía, ¡podemos hacer **física estadística**!"
   ]
  },
  {
   "cell_type": "markdown",
   "metadata": {},
   "source": [
    "Por el momento, y en la mayor parte del curso, ocuparemos el **ensamble canónico**. Recordemos que esto modela un sistema en contacto con un baño térmico (o reservorio) infinito, a una temperatura fija $T$. \n",
    "\n",
    "[Estos conceptos no son nada sencillos, pero supondremos que ya se han tratado en el curso de Física Estadística.]"
   ]
  },
  {
   "cell_type": "markdown",
   "metadata": {},
   "source": [
    "$\\newcommand{\\ss}{\\pmb{\\sigma}}$\n",
    "\n",
    "Lo que debemos extraer de esto es que un sistema en equilibrio, a temperatura $T$, tiene cierta probabilidad de ocupar cada microestado $\\ss$, dada por\n",
    "\n",
    "$$p_T^{\\mathrm{(eq)}}(\\ss) \\propto e^{-\\beta E(\\ss)},$$\n",
    "\n",
    "donde hemos introducido la **temperatura inversa** $\\beta := 1/(k_B T)$, con $k_B$ la constante de Boltzmann. La cantidad $\\beta$ resulta ser más natural que pensar en términos de $T$; tomaremos unidades en las cuales $k_B = 1$.\n",
    "\n",
    "Para la constante de proporcionalidad, introducimos la notación $Z(\\beta)$, que depende de la temperatura $T$, o de $\\beta$, de tal forma que las probabilidades están dadas por\n",
    "\n",
    "$$p_T^{\\mathrm{(eq)}}(\\ss) = \\frac{1}{Z(\\beta)} e^{-\\beta E(\\ss)}.$$\n",
    "\n",
    "Esta distribución de probabilidad se llama la **distribución canónica** a temperatura $T$, o la **distribución de Boltzmann(-Gibbs)**.\n"
   ]
  },
  {
   "cell_type": "markdown",
   "metadata": {},
   "source": [
    "[1] Escribe una expresión para $Z(\\beta)$, que se llama la **función de partición** a temperatura $T$. Recuerda cuál es la relación entre $Z$ y la energía libre macroscópica, $F$."
   ]
  },
  {
   "cell_type": "markdown",
   "metadata": {},
   "source": [
    "$$Z(\\beta)=\\sum_{\\{n\\}}e^{-\\beta E_n(\\sigma)}$$"
   ]
  },
  {
   "cell_type": "markdown",
   "metadata": {},
   "source": [
    "Las cantidades de interés son cantidades macroscópicas, dadas por **promedios** sobre la distribución de Boltzmann, que denotaremos con $\\langle \\cdot \\rangle$. En general, estas propiedades se pueden expresar en términos de la función de partición, $Z$, por lo cual $Z$ asume un papel principal en la física estadística de equilibrio."
   ]
  },
  {
   "cell_type": "markdown",
   "metadata": {},
   "source": [
    "[2] Escribe una expresión para el promedio $\\langle E \\rangle_\\beta$ de la energía a temperatura $T$. Demuestra que se puede expresar en términos de una derivada de $Z(\\beta)$."
   ]
  },
  {
   "cell_type": "markdown",
   "metadata": {},
   "source": [
    "$$\\langle E \\rangle_{\\beta}=\\frac{1}{Z}\\sum_{E}E(\\sigma)e^{-\\beta E(\\sigma)}$$"
   ]
  },
  {
   "cell_type": "markdown",
   "metadata": {},
   "source": [
    "$$\\langle E \\rangle_{\\beta}=-\\frac{1}{Z}\\frac{\\partial}{\\partial\\beta}\\sum_{E}e^{-\\beta E(\\sigma)}=-\\frac{1}{Z}\\frac{\\partial Z}{\\partial\\beta}$$"
   ]
  },
  {
   "cell_type": "markdown",
   "metadata": {},
   "source": [
    "$$\\langle E \\rangle_{\\beta}=-\\frac{\\partial \\ln Z}{\\partial \\beta}$$"
   ]
  },
  {
   "cell_type": "markdown",
   "metadata": {},
   "source": [
    "## Cálculos exactos"
   ]
  },
  {
   "cell_type": "markdown",
   "metadata": {},
   "source": [
    "En principio, podemos calcular $Z$, y los promedios, de forma exacta a partir de su definición, como sigue."
   ]
  },
  {
   "cell_type": "markdown",
   "metadata": {},
   "source": [
    "[3] (i) Escribe código que genera *todos los microestados $\\ss$* del modelo de Ising cuadrado de tamaño $n \\times m$, uno tras otro. [Pista: un arreglo 2D en Julia se puede manipular como si fuera de 1D; piensa en binario.]"
   ]
  },
  {
   "cell_type": "code",
   "execution_count": 2,
   "metadata": {
    "collapsed": false
   },
   "outputs": [
    {
     "data": {
      "text/plain": [
       "5-element Array{Int64,1}:\n",
       " 1\n",
       " 1\n",
       " 1\n",
       " 0\n",
       " 1"
      ]
     },
     "execution_count": 2,
     "metadata": {},
     "output_type": "execute_result"
    }
   ],
   "source": [
    "int(split(bin(29),\"\"))"
   ]
  },
  {
   "cell_type": "code",
   "execution_count": 13,
   "metadata": {
    "collapsed": false
   },
   "outputs": [
    {
     "data": {
      "text/plain": [
       "menosunos (generic function with 1 method)"
      ]
     },
     "execution_count": 13,
     "metadata": {},
     "output_type": "execute_result"
    }
   ],
   "source": [
    "function menosunos(A :: Array{Int64,1})\n",
    "    for i in 1:length(A)\n",
    "        if A[i]==0 \n",
    "            A[i]=-1 \n",
    "        end\n",
    "    end\n",
    "    A\n",
    "end"
   ]
  },
  {
   "cell_type": "code",
   "execution_count": 15,
   "metadata": {
    "collapsed": false
   },
   "outputs": [
    {
     "data": {
      "text/plain": [
       "microestados (generic function with 1 method)"
      ]
     },
     "execution_count": 15,
     "metadata": {},
     "output_type": "execute_result"
    }
   ],
   "source": [
    "function microestados(n :: Int64, m :: Int64)\n",
    "    N=n*m\n",
    "    if N>16 return 0 end\n",
    "    N2=big(2)^N\n",
    "    out=-ones(N2,N)\n",
    "    for i in 1:N2-1\n",
    "        bini=bin(i)\n",
    "        out[i+1,N-length(bini)+1:N]=menosunos(int(split(bini,\"\")))\n",
    "    end\n",
    "    out\n",
    "end"
   ]
  },
  {
   "cell_type": "code",
   "execution_count": 74,
   "metadata": {
    "collapsed": false
   },
   "outputs": [
    {
     "name": "stdout",
     "output_type": "stream",
     "text": [
      "elapsed time: 0.000182989 seconds (9728 bytes allocated)\n"
     ]
    }
   ],
   "source": [
    "mi=microestados(2,2)\n",
    "@time microestados(2,2);"
   ]
  },
  {
   "cell_type": "markdown",
   "metadata": {},
   "source": [
    "(ii) Utiliza tu código para ir calculando $Z(\\beta)$ y $\\langle E \\rangle$ para distintas temperaturas *para sistemas muy pequeños*. Utiliza condiciones periódicas de frontera cuando calculas $E(\\ss)$. [Empieza con el sistema más pequeño y aumenta el tamaño de uno en uno...]"
   ]
  },
  {
   "cell_type": "code",
   "execution_count": 68,
   "metadata": {
    "collapsed": false
   },
   "outputs": [
    {
     "data": {
      "text/plain": [
       "energia (generic function with 2 methods)"
      ]
     },
     "execution_count": 68,
     "metadata": {},
     "output_type": "execute_result"
    }
   ],
   "source": [
    "function energia(configuracion::Array{Float64,2},n::Int64,m::Int64)\n",
    "    out=0.0\n",
    "    configuracion=reshape(configuracion,n,m)\n",
    "    for i in 1:n\n",
    "        for j in 1:m\n",
    "            out+=-configuracion[i,j]*(configuracion[mod1(i-1,n),j]+configuracion[mod1(i+1,n),j]+\n",
    "            configuracion[i,mod1(j-1,m)]+configuracion[i,mod1(j+1,m)])\n",
    "        end\n",
    "    end\n",
    "    out\n",
    "end"
   ]
  },
  {
   "cell_type": "code",
   "execution_count": 69,
   "metadata": {
    "collapsed": false
   },
   "outputs": [
    {
     "data": {
      "text/plain": [
       "-64.0"
      ]
     },
     "execution_count": 69,
     "metadata": {},
     "output_type": "execute_result"
    }
   ],
   "source": [
    "energia(mi[1,:],4,4)"
   ]
  },
  {
   "cell_type": "code",
   "execution_count": 77,
   "metadata": {
    "collapsed": false
   },
   "outputs": [
    {
     "data": {
      "text/plain": [
       "particion_T (generic function with 1 method)"
      ]
     },
     "execution_count": 77,
     "metadata": {},
     "output_type": "execute_result"
    }
   ],
   "source": [
    "function particion_T(T :: Float64, configuraciones :: Array{Float64,2})\n",
    "    out=0.0\n",
    "    for i in length(configuraciones[:,1])\n",
    "        out+=e^(-energia(configuraciones[i,:],2,2)/T)\n",
    "    end\n",
    "    out\n",
    "end"
   ]
  },
  {
   "cell_type": "code",
   "execution_count": 78,
   "metadata": {
    "collapsed": false
   },
   "outputs": [
    {
     "data": {
      "text/plain": [
       "1.1735108709918103"
      ]
     },
     "execution_count": 78,
     "metadata": {},
     "output_type": "execute_result"
    }
   ],
   "source": [
    "particion_T(100.0,mi)"
   ]
  },
  {
   "cell_type": "markdown",
   "metadata": {},
   "source": [
    "(iii) ¿Hasta qué tamaño de sistema puedes llevar a cabo estos cálculos en un tiempo razonable?"
   ]
  },
  {
   "cell_type": "markdown",
   "metadata": {},
   "source": [
    "(iv) Para el sistema más grande que puedas, dibuja estas cantidades en función de $T$. ¿Qué observas?"
   ]
  },
  {
   "cell_type": "markdown",
   "metadata": {},
   "source": [
    "(v) ¿Qué pasa con $\\langle M \\rangle$? ¿Por qué? ¿Qué podríamos hacer al respecto?"
   ]
  },
  {
   "cell_type": "markdown",
   "metadata": {},
   "source": [
    "[4] Hay dos valores especiales de la temperatura. \n",
    "\n",
    "(i) ¿Cuáles son? "
   ]
  },
  {
   "cell_type": "markdown",
   "metadata": {},
   "source": [
    "(ii) Para estas temperaturas especiales, calcula analíticamente $Z$ $\\langle E \\rangle$. ¿Qué debería pasar entre estas dos temperaturas?"
   ]
  },
  {
   "cell_type": "markdown",
   "metadata": {},
   "source": [
    "## ¿Qué sigue? "
   ]
  },
  {
   "cell_type": "markdown",
   "metadata": {},
   "source": [
    "En principio, si calculamos $Z$ como función de $\\beta$, podemos extraer las propiedades termodinámicas macroscópicas. Pero acabamos de ver que ¡*no* podemos calcular $Z$ para sistemas de tamaño interesante!\n",
    "\n",
    "¿Cuál es la solución? Debemos encontrar una manera de calcular las cantidades de interés, como $\\langle E \\rangle$, *sin* tener que pasar por la vía de calcular $Z$.\n",
    "\n",
    "Dado que estas cantidades tienen que ver con *promedios*, surge la idea de calcularlas al promediar sobre *datos* que generamos. ¿Cuáles datos? La idea es que generemos una secuencia *en el tiempo* de configuraciones $\\ss^{(1)}$, $\\ss^{(2)}$, etc., y que calculemos $\\langle E \\rangle$ como el promedio aritmético --en el sentido de la estadística-- de *los datos* $E(\\ss^{(1)})$, $E(\\ss^{(2)})$, etc. Por supuesto, esto nos dará sólo *una aproximación* al valor exacto. Si la generación de la secuencia ocupa un proceso azaraso, entonces *tendremos un método tipo Monte Carlo*."
   ]
  },
  {
   "cell_type": "markdown",
   "metadata": {},
   "source": [
    "Esto lo empezamos a hacer en el notebook anterior (sin darnos cuenta), pero sin contar aún con la temperatura. Ahora hemos introducido el concepto de temperatura, a través de la distribución de Boltzmann."
   ]
  },
  {
   "cell_type": "markdown",
   "metadata": {},
   "source": [
    "[5] Integra lo que hemos visto hasta ahora en el curso para ¡dar una propuesta para una solución al problema!"
   ]
  }
 ],
 "metadata": {
  "anaconda-cloud": {},
  "kernelspec": {
   "display_name": "Julia 0.5.0",
   "language": "julia",
   "name": "julia-0.5"
  },
  "language": "Julia",
  "language_info": {
   "file_extension": ".jl",
   "mimetype": "application/julia",
   "name": "julia",
   "version": "0.5.0"
  }
 },
 "nbformat": 4,
 "nbformat_minor": 0
}
