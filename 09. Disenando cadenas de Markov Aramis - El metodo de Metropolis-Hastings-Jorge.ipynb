{
 "cells": [
  {
   "cell_type": "markdown",
   "metadata": {},
   "source": [
    "# Diseñar una cadena de Markov "
   ]
  },
  {
   "cell_type": "code",
   "execution_count": 4,
   "metadata": {
    "collapsed": false
   },
   "outputs": [
    {
     "name": "stderr",
     "output_type": "stream",
     "text": [
      "INFO: Loading help data...\n"
     ]
    }
   ],
   "source": [
    "using PyPlot"
   ]
  },
  {
   "cell_type": "markdown",
   "metadata": {},
   "source": [
    "$\\newcommand{\\ss}{\\pmb \\sigma}\n",
    "\\newcommand{\\tt}{\\pmb \\tau}\n",
    "\\newcommand{\\pp}{\\pmb \\pi}$\n",
    "\n",
    "Ahora estamos listos para poder ¡*simular el modelo de Ising a una temperatura $T$ fija*!\n",
    "Ocuparemos todo lo que hemos visto hasta ahora en el curso.\n",
    "\n",
    "La idea *genial*, que se ha redescubierto varias veces, es el de **diseñar una cadena de Markov**, es decir, diseñar su matriz de transición, tal que **su distribución estacionaria es la que queramos**. Llamaremos la distribución estacionaria $\\pi(\\ss)$.\n",
    "\n",
    "En el caso de la física estadística, la distribución deseada es (por el momento) la de Boltzmann,\n",
    "\n",
    "$$\\pi(\\ss) = \\frac{1}{Z(\\beta)} e^{-\\beta E(\\ss)}.$$\n",
    "\n",
    "Pero en otros contextos, por ejemplo en la estadística (y posteriormente en el curso), podría interesarnos generar distintas distribuciones estacionarias.\n",
    "\n",
    "La idea es, entonces, **diseñar** una matriz de transición $P(\\ss \\to \\tt)$, la cual, recordemos, da las probabilidades de que la cadena, estando en el microestado (configuración) $\\ss$, brinque al microestado $\\tt$, con el fin de que la cadena de Markov correspondiente a esta matriz de transición tenga la distribución estacionaria $\\pi(\\ss)$ deseada.\n",
    "\n",
    "Resta una sola pregunta: ¿cómo hacer esto?\n"
   ]
  },
  {
   "cell_type": "markdown",
   "metadata": {},
   "source": [
    "## Balance detallado "
   ]
  },
  {
   "cell_type": "markdown",
   "metadata": {},
   "source": [
    "Recordemos de un notebook anterior que hay una condición *necesaria* para que la distribución de probabilidad $\\pp$ sea una distribución estacionaria de la matriz de transición $\\mathsf{P}$ con entradas $P(\\ss \\to \\tt)$, llamada la *condición de balance*. \n",
    "\n",
    "Físicamente, la condición de balance expresa el hecho de que la cantidad de probabilidad que fluye de $\\ss$ a todos los demás estados en un paso es la misma que la cantidad de probabilidad que fluye de todos los demás estados hacia $\\ss$."
   ]
  },
  {
   "cell_type": "markdown",
   "metadata": {},
   "source": [
    "[1] Escribe la condición de balance usando esta notación."
   ]
  },
  {
   "cell_type": "markdown",
   "metadata": {},
   "source": [
    "$$\\sum \\limits_{\\tau} \\pi(\\sigma)P(\\sigma \\rightarrow \\tau)=\\sum \\limits_{\\tau} \\pi(\\tau)P(\\tau \\rightarrow \\sigma)$$"
   ]
  },
  {
   "cell_type": "markdown",
   "metadata": {},
   "source": [
    "$$\\pi(\\sigma)=\\sum \\limits_{\\tau} \\pi(\\tau)P(\\tau \\rightarrow \\sigma)$$"
   ]
  },
  {
   "cell_type": "markdown",
   "metadata": {},
   "source": [
    "Muchos métodos de Monte Carlo usan una condición más fuerte, que es *suficiente*, pero no *necesaria*, para que la distribución $\\pi$ sea estacionaria para la cadena. Esta condición se llama la condición de **balance detallado**, y dice que el flujo de probabilidad de un estado $\\ss$ a otro $\\tt$ es igual al flujo al revés, de $\\tt$ a $\\ss$, para *cualquier* par de estados $\\ss$ y $\\tt$.\n",
    "\n",
    "La condición de balance detallado se suele *imponer*, ya que hace más fácil derivar una cadena de Markov adecuada."
   ]
  },
  {
   "cell_type": "markdown",
   "metadata": {},
   "source": [
    "[2] (i) Escribe una fórmula para la condición de balance detallado."
   ]
  },
  {
   "cell_type": "markdown",
   "metadata": {},
   "source": [
    "$$\\pi(\\sigma)P(\\sigma \\rightarrow \\tau)=\\pi(\\tau)P(\\tau \\rightarrow \\sigma)$$"
   ]
  },
  {
   "cell_type": "markdown",
   "metadata": {},
   "source": [
    "(ii) De ahí extrae una condición sobre las probabilidades de transición, en términos de las $\\pi(\\ss)$. "
   ]
  },
  {
   "cell_type": "markdown",
   "metadata": {},
   "source": [
    "(iii) En el caso de la distribución de Boltzmann, ¿qué pasa con la $Z$ en esta expresión? "
   ]
  },
  {
   "cell_type": "markdown",
   "metadata": {},
   "source": [
    "El punto que vimos en el 2(iii) es crucial -- quiere decir que **no es necesario conocer la constante de normalización de la distribución de probabilidad**."
   ]
  },
  {
   "cell_type": "markdown",
   "metadata": {},
   "source": [
    "## Metropolis-Hastings"
   ]
  },
  {
   "cell_type": "markdown",
   "metadata": {},
   "source": [
    "Pensemos en el modelo de Ising. Tenemos configuraciones $\\ss$ y necesitamos diseñar probabilidades de transición a otras configuraciones $\\tt$. Una manera natural de **generar** una nueva configuración es el voltear un espín. Esto nos da una probabilidad $g(\\ss \\to \\tt)$."
   ]
  },
  {
   "cell_type": "markdown",
   "metadata": {},
   "source": [
    "[3] ¿Cuánto es $g(\\ss \\to \\tt)$ si $\\ss$ y $\\tt$ difieren en el valor de sólo un espín? ¿Si difieren en más de un espín?"
   ]
  },
  {
   "cell_type": "markdown",
   "metadata": {},
   "source": [
    "Si difieren en el valor de un solo espín, $g(\\ss \\to \\tt)=\\frac{1}{N}$, si difieren en más de uno, $g(\\ss \\to \\tt)=0$."
   ]
  },
  {
   "cell_type": "markdown",
   "metadata": {},
   "source": [
    "Habiendo generado, o *propuesto*, una nueva configuración, tenemos que ver si es \"adecuado\": lo **aceptaremos** con probabilidad $\\alpha(\\ss \\to \\tt)$, en cuyo caso el estado del sistema cambiará a $\\tt$, y lo **rechazamos** con probabilidad $1-\\alpha(\\ss \\to \\tt)$, en cuyo caso el sistema se queda en el mismo estado $\\ss$."
   ]
  },
  {
   "cell_type": "markdown",
   "metadata": {},
   "source": [
    "La probabilidad de transición $P(\\ss \\to \\tt)$ es la combinación de las dos:\n",
    "\n",
    "$$P(\\ss \\to \\tt) = g(\\ss \\to \\tt) \\cdot \\alpha(\\ss \\to \\tt)$$"
   ]
  },
  {
   "cell_type": "markdown",
   "metadata": {},
   "source": [
    "[4] Para el caso de voltear un solo espín, ¿cómo se comparan $g(\\ss \\to \\tt)$ y $g(\\tt \\to \\ss)$. Así, encuentra una relación entre $\\alpha$ y $\\pi$."
   ]
  },
  {
   "cell_type": "markdown",
   "metadata": {},
   "source": [
    "$$\\frac{\\alpha (\\sigma \\rightarrow \\tau)}{\\alpha (\\tau \\rightarrow \\sigma)}=\\frac{\\pi(\\tau)}{\\pi(\\sigma)}$$"
   ]
  },
  {
   "cell_type": "markdown",
   "metadata": {},
   "source": [
    "Ahora debemos resolver esta ecuación para encontrar $\\alpha$ en términos de $\\pi$. Sin embargo, le ecuación *no* determina $\\alpha$ de forma *única* --tenemos cierta libertad. "
   ]
  },
  {
   "cell_type": "markdown",
   "metadata": {},
   "source": [
    "[5] Supón que el más grande de $\\alpha(\\ss \\to \\tt)$ y $\\alpha(\\tt \\to \\ss)$ sea $1$. [Ésta es la elección conocida como \"Metropolis-Hastings\".] "
   ]
  },
  {
   "cell_type": "markdown",
   "metadata": {},
   "source": [
    "(i) Encuentra una expresión para $\\alpha(\\ss \\to \\tt)$ en términos de $\\pi$."
   ]
  },
  {
   "cell_type": "markdown",
   "metadata": {},
   "source": [
    "$$\\alpha(\\sigma \\rightarrow \\tau)=\\min\\{1,\\frac{\\pi(\\tau)}{\\pi(\\sigma)}\\}$$"
   ]
  },
  {
   "cell_type": "markdown",
   "metadata": {},
   "source": [
    "(ii) Escríbelo explícitamente para la distribución de Boltzmann en el modelo de Ising. ¿Cómo depende de la temperatura (o de $\\beta$)?"
   ]
  },
  {
   "cell_type": "markdown",
   "metadata": {},
   "source": [
    "$$\\alpha(\\sigma \\rightarrow \\tau)=\\min\\{1,e^{-\\beta [E(\\tau)-E(\\sigma)]}\\}$$"
   ]
  },
  {
   "cell_type": "markdown",
   "metadata": {},
   "source": [
    "## Simulando el modelo de Ising"
   ]
  },
  {
   "cell_type": "markdown",
   "metadata": {},
   "source": [
    "[6] (i) Implementa todo esto en el modelo de Ising:\n",
    "\n",
    "- Empieza en una configuración aleatoria.\n",
    "- En cada paso, escoge un espín al azar que se propone para voltearse.\n",
    "- Acepta el cambio a la configuración nueva con la probabilidad que encontraste en la pregunta 5; si no, el sistema se queda donde está."
   ]
  },
  {
   "cell_type": "code",
   "execution_count": 5,
   "metadata": {
    "collapsed": false
   },
   "outputs": [
    {
     "data": {
      "text/plain": [
       "conf_aleatoria (generic function with 2 methods)"
      ]
     },
     "execution_count": 5,
     "metadata": {},
     "output_type": "execute_result"
    }
   ],
   "source": [
    "function conf_aleatoria(n::Int64,m::Int64,p=0.5)\n",
    "    configuracion=ones(n,m)\n",
    "    for i in 1:n\n",
    "        for j in 1:m\n",
    "            if rand()<=p\n",
    "                configuracion[i,j]=-1\n",
    "            end\n",
    "        end\n",
    "    end\n",
    "    return configuracion \n",
    "end"
   ]
  },
  {
   "cell_type": "code",
   "execution_count": 6,
   "metadata": {
    "collapsed": false
   },
   "outputs": [
    {
     "data": {
      "text/plain": [
       "flip_one (generic function with 1 method)"
      ]
     },
     "execution_count": 6,
     "metadata": {},
     "output_type": "execute_result"
    }
   ],
   "source": [
    "function flip_one(A::Array{Float64,2},i::Int64,j::Int64)\n",
    "    A[i,j]*=-1\n",
    "    A\n",
    "end"
   ]
  },
  {
   "cell_type": "code",
   "execution_count": 7,
   "metadata": {
    "collapsed": false
   },
   "outputs": [
    {
     "data": {
      "text/plain": [
       "energia_ij (generic function with 1 method)"
      ]
     },
     "execution_count": 7,
     "metadata": {},
     "output_type": "execute_result"
    }
   ],
   "source": [
    "function energia_ij(configuracion::Array{Float64,2},n::Int64,m::Int64,i::Int64,j::Int64)\n",
    "    -configuracion[i,j]*(configuracion[mod1(i-1,n),j]+configuracion[mod1(i+1,n),j]+\n",
    "        configuracion[i,mod1(j-1,m)]+configuracion[i,mod1(j+1,m)])\n",
    "    \n",
    "end"
   ]
  },
  {
   "cell_type": "code",
   "execution_count": 8,
   "metadata": {
    "collapsed": false
   },
   "outputs": [
    {
     "data": {
      "text/plain": [
       "α (generic function with 1 method)"
      ]
     },
     "execution_count": 8,
     "metadata": {},
     "output_type": "execute_result"
    }
   ],
   "source": [
    "function α(configuracion::Array{Float64,2},configuracion_new::Array{Float64,2},beta::Float64,n::Int64,m::Int64,i::Int64,j::Int64)\n",
    "    delta_energia=energia_ij(configuracion_new,n,m,i,j)-energia_ij(configuracion,n,m,i,j)\n",
    "    min(1,e^(-beta*delta_energia))\n",
    "end"
   ]
  },
  {
   "cell_type": "code",
   "execution_count": 9,
   "metadata": {
    "collapsed": false
   },
   "outputs": [
    {
     "name": "stdout",
     "output_type": "stream",
     "text": [
      "config => [-1.0 1.0 1.0 -1.0 1.0\n",
      " -1.0 -1.0 1.0 1.0 1.0\n",
      " -1.0 -1.0 -1.0 -1.0 1.0\n",
      " 1.0 1.0 1.0 -1.0 1.0\n",
      " -1.0 -1.0 -1.0 -1.0 -1.0]\n",
      "(i,j) => (5,4)\n"
     ]
    },
    {
     "ename": "LoadError",
     "evalue": "`α` has no method matching α(::Array{Float64,2}, ::Float64, ::Int64, ::Int64, ::Int64, ::Int64)\nwhile loading In[9], in expression starting on line 7",
     "output_type": "error",
     "traceback": [
      "`α` has no method matching α(::Array{Float64,2}, ::Float64, ::Int64, ::Int64, ::Int64, ::Int64)\nwhile loading In[9], in expression starting on line 7",
      ""
     ]
    }
   ],
   "source": [
    "m=5\n",
    "n=5\n",
    "config=conf_aleatoria(n,m)\n",
    "@show config\n",
    "i,j=rand(1:n),rand(1:m)\n",
    "@show i,j\n",
    "α(config,1/3,n,m,i,j)"
   ]
  },
  {
   "cell_type": "code",
   "execution_count": 10,
   "metadata": {
    "collapsed": false
   },
   "outputs": [
    {
     "data": {
      "text/plain": [
       "aceptar (generic function with 1 method)"
      ]
     },
     "execution_count": 10,
     "metadata": {},
     "output_type": "execute_result"
    }
   ],
   "source": [
    "function aceptar(configuracion::Array{Float64,2},beta::Float64,n::Int64,m::Int64)\n",
    "    configuracion_new=copy(configuracion)\n",
    "    i,j=rand(1:n),rand(1:m)\n",
    "    flip_one(configuracion_new,i,j)\n",
    "    alpha=α(configuracion,configuracion_new,beta,n,m,i,j)\n",
    "    if rand()<=alpha\n",
    "        return configuracion_new\n",
    "    else\n",
    "        return configuracion\n",
    "    end\n",
    "end"
   ]
  },
  {
   "cell_type": "code",
   "execution_count": 11,
   "metadata": {
    "collapsed": false
   },
   "outputs": [
    {
     "data": {
      "text/plain": [
       "5x5 Array{Float64,2}:\n",
       " -1.0  -1.0   1.0  -1.0   1.0\n",
       "  1.0  -1.0   1.0  -1.0  -1.0\n",
       " -1.0   1.0  -1.0   1.0   1.0\n",
       "  1.0  -1.0  -1.0   1.0  -1.0\n",
       "  1.0  -1.0  -1.0  -1.0   1.0"
      ]
     },
     "execution_count": 11,
     "metadata": {},
     "output_type": "execute_result"
    }
   ],
   "source": [
    "m,n=5,5\n",
    "config=conf_aleatoria(n,m)"
   ]
  },
  {
   "cell_type": "code",
   "execution_count": 12,
   "metadata": {
    "collapsed": false
   },
   "outputs": [
    {
     "data": {
      "text/plain": [
       "5x5 Array{Float64,2}:\n",
       " -1.0  -1.0   1.0  -1.0   1.0\n",
       " -1.0  -1.0   1.0  -1.0  -1.0\n",
       " -1.0   1.0  -1.0   1.0   1.0\n",
       "  1.0  -1.0  -1.0   1.0  -1.0\n",
       "  1.0  -1.0  -1.0  -1.0   1.0"
      ]
     },
     "execution_count": 12,
     "metadata": {},
     "output_type": "execute_result"
    }
   ],
   "source": [
    "aceptar(config,1/50,n,m)"
   ]
  },
  {
   "cell_type": "code",
   "execution_count": 25,
   "metadata": {
    "collapsed": false
   },
   "outputs": [
    {
     "data": {
      "text/plain": [
       "energia_total (generic function with 1 method)"
      ]
     },
     "execution_count": 25,
     "metadata": {},
     "output_type": "execute_result"
    }
   ],
   "source": [
    "function energia_total(configuracion::Array{Float64,2},n::Int64,m::Int64)\n",
    "    out=0.0\n",
    "    for i in 1:n\n",
    "        for j in 1:m\n",
    "            out+=-configuracion[i,j]*(configuracion[mod1(i-1,n),j]+configuracion[mod1(i+1,n),j]+\n",
    "            configuracion[i,mod1(j-1,m)]+configuracion[i,mod1(j+1,m)])\n",
    "        end\n",
    "    end\n",
    "    out/2\n",
    "end"
   ]
  },
  {
   "cell_type": "code",
   "execution_count": 14,
   "metadata": {
    "collapsed": false
   },
   "outputs": [
    {
     "data": {
      "text/plain": [
       "magnetizacion (generic function with 1 method)"
      ]
     },
     "execution_count": 14,
     "metadata": {},
     "output_type": "execute_result"
    }
   ],
   "source": [
    "magnetizacion(A::Array{Float64})=sum(A)"
   ]
  },
  {
   "cell_type": "markdown",
   "metadata": {},
   "source": [
    "(ii) En tu simulación, espera un buen rato, y luego promedia la energía y la magnetización en el tiempo."
   ]
  },
  {
   "cell_type": "code",
   "execution_count": 26,
   "metadata": {
    "collapsed": false
   },
   "outputs": [
    {
     "data": {
      "text/plain": [
       "energias_t (generic function with 2 methods)"
      ]
     },
     "execution_count": 26,
     "metadata": {},
     "output_type": "execute_result"
    }
   ],
   "source": [
    "function energias_t(beta,n::Int64,m::Int64,t=100)\n",
    "    out=zeros(t+1)\n",
    "    config_old=conf_aleatoria(n,m)\n",
    "    out[1]=energia_total(config_old,n,m)\n",
    "    for tiempo in 1:t\n",
    "        config_new=aceptar(config_old,beta,n,m)\n",
    "        out[tiempo+1]=energia_total(config_new,n,m)\n",
    "        config_old,config_new=config_new,config_old\n",
    "    end\n",
    "    out\n",
    "end"
   ]
  },
  {
   "cell_type": "code",
   "execution_count": 41,
   "metadata": {
    "collapsed": false
   },
   "outputs": [
    {
     "data": {
      "image/png": "[encoded data removed]",
      "text/plain": [
       "Figure(PyObject <matplotlib.figure.Figure object at 0x7f9dd136a390>)"
      ]
     },
     "metadata": {},
     "output_type": "display_data"
    },
    {
     "data": {
      "text/plain": [
       "1-element Array{Any,1}:\n",
       " PyObject <matplotlib.lines.Line2D object at 0x7f9dcd6a2250>"
      ]
     },
     "execution_count": 41,
     "metadata": {},
     "output_type": "execute_result"
    }
   ],
   "source": [
    "energias=energias_t(1.0,5,5,3000000)\n",
    "plot(energias,markersize=2)"
   ]
  },
  {
   "cell_type": "code",
   "execution_count": 157,
   "metadata": {
    "collapsed": false
   },
   "outputs": [
    {
     "data": {
      "text/plain": [
       "36.8696"
      ]
     },
     "execution_count": 157,
     "metadata": {},
     "output_type": "execute_result"
    }
   ],
   "source": [
    "energia_promedio(1.0,20,20,10000)"
   ]
  },
  {
   "cell_type": "markdown",
   "metadata": {},
   "source": [
    "(iii) Así, encuentra estimados de $\\langle E \\rangle_T$, y dibújalas como función de $T$."
   ]
  },
  {
   "cell_type": "markdown",
   "metadata": {},
   "source": [
    "(iv) Dibuja la energía *por espín* promedio en función de $T$ para distintos tamaños del sistema $L$, todas en una sola gráfica. ¿Qué observas?"
   ]
  },
  {
   "cell_type": "markdown",
   "metadata": {},
   "source": [
    "[7] Repite lo mismo para la magnetización. ¿Qué observas? ¿Qué solución le podríamos dar? Hazlo. ¿Qué observas?"
   ]
  }
 ],
 "metadata": {
  "kernelspec": {
   "display_name": "Julia 0.5.0",
   "language": "julia",
   "name": "julia-0.5"
  },
  "language": "Julia",
  "language_info": {
   "file_extension": ".jl",
   "mimetype": "application/julia",
   "name": "julia",
   "version": "0.5.0"
  }
 },
 "nbformat": 4,
 "nbformat_minor": 0
}
