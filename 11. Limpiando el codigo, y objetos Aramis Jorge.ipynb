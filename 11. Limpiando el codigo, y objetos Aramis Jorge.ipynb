{
 "cells": [
  {
   "cell_type": "markdown",
   "metadata": {},
   "source": [
    "Hasta ahora, tu código probablemente está regado en uno o varios notebooks.\n",
    "La idea es, primero, recolectarlo en un lugar."
   ]
  },
  {
   "cell_type": "code",
   "execution_count": 1,
   "metadata": {
    "collapsed": true
   },
   "outputs": [],
   "source": [
    "using FactCheck"
   ]
  },
  {
   "cell_type": "markdown",
   "metadata": {},
   "source": [
    "[1] Revisa la documentación sobre **modules** (módulos) en Julia. Crea un módulo que se llama `Ising` (o `ModeloIsing`, o algo por el estilo), en un archivo `Ising.jl` tal que puedas incluir el código (e.g. desde un notebook) con `using Ising`, y correrlo al llamar una sola función que acepte los parámetros importantes del modelo (tamaño de la caja, temperatura, etc.).  [Se recomienda usar un editor que \"sepa Julia\", e.g. Juno, Sublime Text, Atom (o Emacs o Vim) para este propósito.]\n",
    "\n",
    "[2] Escribe un \"script\" (programa corto con código de Julia) que toma los *argumentos de la línea de comandos* [en Julia, éstos se guardan en la variable `ARGS`, y produce los plots de la energía y magnetización en función de la temperatura."
   ]
  },
  {
   "cell_type": "markdown",
   "metadata": {},
   "source": [
    "FALTAN"
   ]
  },
  {
   "cell_type": "markdown",
   "metadata": {},
   "source": [
    "# Tipos "
   ]
  },
  {
   "cell_type": "markdown",
   "metadata": {},
   "source": [
    "Hasta ahora, no hay manera de hablar del \"modelo de Ising\" o del \"método de Metropolis\" en tu código --los conceptos están, de igual forma, regados por el programa. Julia permite llevar a cabo la **programación orientada a objetos**, al definir tus propios **tipos** nuevos.\n",
    "\n",
    "Por ejemplo:"
   ]
  },
  {
   "cell_type": "code",
   "execution_count": 2,
   "metadata": {
    "collapsed": false
   },
   "outputs": [],
   "source": [
    "type Hola\n",
    "    a::Int\n",
    "    b\n",
    "end"
   ]
  },
  {
   "cell_type": "markdown",
   "metadata": {},
   "source": [
    "define un *tipo nuevo de objeto*, que se llama `Hola`. Especifica que un objeto de este tipo contendrá una propiedad `a`, que es, a fuerzas, de tipo `Int`, y otro objeto `b`, que puede ser de cualquier tipo."
   ]
  },
  {
   "cell_type": "markdown",
   "metadata": {},
   "source": [
    "[3] Encuentra la manera de *crear un objeto nuevo* de este tipo."
   ]
  },
  {
   "cell_type": "code",
   "execution_count": 12,
   "metadata": {
    "collapsed": false
   },
   "outputs": [
    {
     "data": {
      "text/html": [
       "2 methods for generic function <b>Hola</b>:<ul><li> Hola(a::<b>Int64</b>,b)<li> Hola(a,b)</ul>"
      ],
      "text/plain": [
       "# 2 methods for generic function \"Hola\":\n",
       "Hola(a::Int64,b)\n",
       "Hola(a,b)"
      ]
     },
     "execution_count": 12,
     "metadata": {},
     "output_type": "execute_result"
    }
   ],
   "source": [
    "methods(Hola)"
   ]
  },
  {
   "cell_type": "code",
   "execution_count": 25,
   "metadata": {
    "collapsed": false
   },
   "outputs": [
    {
     "data": {
      "text/plain": [
       "Hola(4,4.5)"
      ]
     },
     "execution_count": 25,
     "metadata": {},
     "output_type": "execute_result"
    }
   ],
   "source": [
    "c=Hola(4.0,4.5)"
   ]
  },
  {
   "cell_type": "code",
   "execution_count": 26,
   "metadata": {
    "collapsed": false
   },
   "outputs": [
    {
     "data": {
      "text/plain": [
       "Hola (constructor with 2 methods)"
      ]
     },
     "execution_count": 26,
     "metadata": {},
     "output_type": "execute_result"
    }
   ],
   "source": [
    "typeof(c)"
   ]
  },
  {
   "cell_type": "code",
   "execution_count": 17,
   "metadata": {
    "collapsed": false
   },
   "outputs": [
    {
     "data": {
      "text/plain": [
       "3.0"
      ]
     },
     "execution_count": 17,
     "metadata": {},
     "output_type": "execute_result"
    }
   ],
   "source": [
    "d=3.0"
   ]
  },
  {
   "cell_type": "code",
   "execution_count": 19,
   "metadata": {
    "collapsed": false,
    "scrolled": true
   },
   "outputs": [
    {
     "data": {
      "text/plain": [
       "Float64"
      ]
     },
     "execution_count": 19,
     "metadata": {},
     "output_type": "execute_result"
    }
   ],
   "source": [
    "typeof(d)"
   ]
  },
  {
   "cell_type": "code",
   "execution_count": 2,
   "metadata": {
    "collapsed": false
   },
   "outputs": [
    {
     "ename": "LoadError",
     "evalue": "invalid redefinition of constant Particula\nwhile loading In[2], in expression starting on line 1",
     "output_type": "error",
     "traceback": [
      "invalid redefinition of constant Particula\nwhile loading In[2], in expression starting on line 1",
      ""
     ]
    }
   ],
   "source": [
    "type Particula\n",
    "    x :: Float64\n",
    "    v \n",
    "    m\n",
    "end"
   ]
  },
  {
   "cell_type": "code",
   "execution_count": 3,
   "metadata": {
    "collapsed": false
   },
   "outputs": [
    {
     "data": {
      "text/plain": [
       "Particula(1.0,0.0,43.0)"
      ]
     },
     "execution_count": 3,
     "metadata": {},
     "output_type": "execute_result"
    }
   ],
   "source": [
    "p =Particula(1.0, 0.0, 43.0)"
   ]
  },
  {
   "cell_type": "code",
   "execution_count": 4,
   "metadata": {
    "collapsed": false
   },
   "outputs": [
    {
     "data": {
      "text/plain": [
       "mover! (generic function with 1 method)"
      ]
     },
     "execution_count": 4,
     "metadata": {},
     "output_type": "execute_result"
    }
   ],
   "source": [
    "function mover!(p:: Particula, dt:: Float64)\n",
    "p.x+=p.v*dt\n",
    "end"
   ]
  },
  {
   "cell_type": "code",
   "execution_count": 5,
   "metadata": {
    "collapsed": false,
    "scrolled": true
   },
   "outputs": [
    {
     "data": {
      "text/html": [
       "1 method for generic function <b>mover!</b>:<ul><li> mover!(p::<b>Particula</b>,dt::<b>Float64</b>) at In[4]:2</ul>"
      ],
      "text/plain": [
       "# 1 method for generic function \"mover!\":\n",
       "mover!(p::Particula,dt::Float64) at In[4]:2"
      ]
     },
     "execution_count": 5,
     "metadata": {},
     "output_type": "execute_result"
    }
   ],
   "source": [
    "methods(mover!)"
   ]
  },
  {
   "cell_type": "code",
   "execution_count": 60,
   "metadata": {
    "collapsed": false
   },
   "outputs": [
    {
     "data": {
      "text/plain": [
       ":(x + y)"
      ]
     },
     "execution_count": 60,
     "metadata": {},
     "output_type": "execute_result"
    }
   ],
   "source": [
    "expr=parse(\"x+y\")"
   ]
  },
  {
   "cell_type": "code",
   "execution_count": 33,
   "metadata": {
    "collapsed": false
   },
   "outputs": [
    {
     "data": {
      "text/plain": [
       "Expr"
      ]
     },
     "execution_count": 33,
     "metadata": {},
     "output_type": "execute_result"
    }
   ],
   "source": [
    "typeof(expr)"
   ]
  },
  {
   "cell_type": "code",
   "execution_count": 34,
   "metadata": {
    "collapsed": false
   },
   "outputs": [
    {
     "name": "stdout",
     "output_type": "stream",
     "text": [
      "Expr \n",
      "  head: Symbol call\n",
      "  args: Array(Any,(3,))\n",
      "    1: Symbol +\n",
      "    2: Symbol x\n",
      "    3: Symbol y\n",
      "  typ: Any\n"
     ]
    }
   ],
   "source": [
    "dump(expr)"
   ]
  },
  {
   "cell_type": "code",
   "execution_count": 56,
   "metadata": {
    "collapsed": false
   },
   "outputs": [
    {
     "data": {
      "text/plain": [
       "6"
      ]
     },
     "execution_count": 56,
     "metadata": {},
     "output_type": "execute_result"
    }
   ],
   "source": [
    "x=3\n",
    "y=3\n",
    "z=4\n",
    "eval(expr)"
   ]
  },
  {
   "cell_type": "code",
   "execution_count": 57,
   "metadata": {
    "collapsed": false
   },
   "outputs": [
    {
     "data": {
      "text/plain": [
       "3-element Array{Any,1}:\n",
       " :+\n",
       " :x\n",
       " :y"
      ]
     },
     "execution_count": 57,
     "metadata": {},
     "output_type": "execute_result"
    }
   ],
   "source": [
    "expr.args"
   ]
  },
  {
   "cell_type": "code",
   "execution_count": 81,
   "metadata": {
    "collapsed": true
   },
   "outputs": [],
   "source": [
    "macro transf(expr)\n",
    "    expr.args[2]=:z\n",
    "    expr\n",
    "end"
   ]
  },
  {
   "cell_type": "code",
   "execution_count": 82,
   "metadata": {
    "collapsed": false
   },
   "outputs": [
    {
     "data": {
      "text/plain": [
       "7"
      ]
     },
     "execution_count": 82,
     "metadata": {},
     "output_type": "execute_result"
    }
   ],
   "source": [
    "@transf(x+y)"
   ]
  },
  {
   "cell_type": "code",
   "execution_count": 78,
   "metadata": {
    "collapsed": false
   },
   "outputs": [
    {
     "data": {
      "text/plain": [
       "7"
      ]
     },
     "execution_count": 78,
     "metadata": {},
     "output_type": "execute_result"
    }
   ],
   "source": [
    "z+y"
   ]
  },
  {
   "cell_type": "markdown",
   "metadata": {},
   "source": [
    "[4] ¿Cuáles elementos de tu programa podrías tratar como objetos de esta forma? ¿Cómo se deberían comunicar entre ellos? [Nota que ¡no necesariamente hay respuestas únicas ni evidentes a esta pregunta!]"
   ]
  },
  {
   "cell_type": "markdown",
   "metadata": {},
   "source": [
    "Las configuraciones pueden ser tratados como objetos. NO SABEMOS CÓMO SE COMUNICAN O QUÉ SIGNIFICA COMUNICACIÓN EN ESTE CONTEXTO."
   ]
  },
  {
   "cell_type": "markdown",
   "metadata": {},
   "source": [
    "[5] La programación orientada a objetos requiere la posibilidad de manipular los objetos, al llamar funciones que actúan con o en función de ellos. Por ejemplo, si uno tiene un tipo `Configuracion`, podría querer tener una función `voltear` que actúa sobre este objeto. ¿Cómo se puede hacer esto en Julia?"
   ]
  },
  {
   "cell_type": "markdown",
   "metadata": {},
   "source": [
    "FALTA"
   ]
  },
  {
   "cell_type": "markdown",
   "metadata": {},
   "source": [
    "[6] Escribe una nueva versión de tu código, en el cual se separa los conceptos de esta manera."
   ]
  },
  {
   "cell_type": "markdown",
   "metadata": {},
   "source": [
    "FALTA. MUY IMPORTANTE. DE VERDAD."
   ]
  },
  {
   "cell_type": "markdown",
   "metadata": {},
   "source": [
    "## Control de versiones"
   ]
  },
  {
   "cell_type": "markdown",
   "metadata": {},
   "source": [
    "Es importante contar con una bitácora de la evolución de tu código (y notebooks, datos, etc.) Para esto, se utiliza un *sistema de control de versiones*. El más común hoy día es [`git`](http://git-scm.com/).  Luego debes guardar tus archivos, y la bitácora, en un lugar remoto, por ejemplo [GitHub](http://www.github.com)."
   ]
  },
  {
   "cell_type": "markdown",
   "metadata": {},
   "source": [
    "[7] Aprende a utilizar `git`, por ejemplo usando los primeros dos notebooks de [este curso](https://github.com/lbenet/MetodosNumericosAvanzados)."
   ]
  },
  {
   "cell_type": "markdown",
   "metadata": {},
   "source": [
    "más o menos, el básico"
   ]
  },
  {
   "cell_type": "markdown",
   "metadata": {},
   "source": [
    "[8] Crea un repositorio para tus archivos y notebooks y empújalo a una cuenta en GitHub."
   ]
  },
  {
   "cell_type": "markdown",
   "metadata": {},
   "source": [
    "listo"
   ]
  },
  {
   "cell_type": "markdown",
   "metadata": {},
   "source": [
    "[9] Haz un \"fork\" del proyecto de alguien más y compara los códigos. Trabaja en equipo para mejorar los códigos y sube la nueva versión."
   ]
  },
  {
   "cell_type": "markdown",
   "metadata": {},
   "source": [
    "## Profiling"
   ]
  },
  {
   "cell_type": "markdown",
   "metadata": {},
   "source": [
    "El \"profiling\" (perfilamiento) es una manera de encontrar dónde se pasa más tiempo en tu programa.\n",
    "\n",
    "Julia tiene un comando (macro) `@time` que permite ver cuánto tiempo pasa en una función dada, e.g.\n",
    "\n",
    "    @time run(100)\n",
    "    \n",
    "Regresa información sobre el tiempo total y la memoria utilizada."
   ]
  },
  {
   "cell_type": "markdown",
   "metadata": {},
   "source": [
    "[10] Compara el tiempo de los dos códigos con los mismos parámetros. Encuentra cuáles funciones son más lentas."
   ]
  },
  {
   "cell_type": "markdown",
   "metadata": {},
   "source": [
    "Julia tiene también `@profile run(100)` que recolecta información sobre las funciones en las cuales se pasó más tiempo durante la corrida:"
   ]
  },
  {
   "cell_type": "markdown",
   "metadata": {},
   "source": [
    "    @profile run(100)\n",
    "    Profile.print()"
   ]
  },
  {
   "cell_type": "markdown",
   "metadata": {},
   "source": [
    "[11] Encuentra dónde pasa tiempo tu programa. ¿Hay alguna manera de acelerarlo?"
   ]
  },
  {
   "cell_type": "markdown",
   "metadata": {},
   "source": [
    "Nótese que estas optimizaciones **sólo** se deben hacer **después** de que ya tengas una versión **funcional** (aún si lenta) del programa. `git` permite rastrear todas las versiones anteriores del programa.\n",
    "\n",
    "Dijo Donald Knuth (uno de los computólogos más destacados del siglo XX): \"La optimización prematura es la raíz de todos los males\"."
   ]
  }
 ],
 "metadata": {
  "kernelspec": {
   "display_name": "Julia 0.5.0",
   "language": "julia",
   "name": "julia-0.5"
  },
  "language": "Julia",
  "language_info": {
   "file_extension": ".jl",
   "mimetype": "application/julia",
   "name": "julia",
   "version": "0.5.0"
  }
 },
 "nbformat": 4,
 "nbformat_minor": 0
}
